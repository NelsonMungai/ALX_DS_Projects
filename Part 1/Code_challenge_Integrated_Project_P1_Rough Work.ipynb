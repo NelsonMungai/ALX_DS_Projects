{
 "cells": [
  {
   "cell_type": "markdown",
   "id": "841d4f04",
   "metadata": {},
   "source": [
    "<div align=\"center\" style=\" font-size: 80%; text-align: center; margin: 0 auto\">\n",
    "<img src=\"https://raw.githubusercontent.com/Explore-AI/Pictures/master/Python-Notebook-Banners/Code_challenge.png\"  style=\"display: block; margin-left: auto; margin-right: auto;\";/>\n",
    "</div>"
   ]
  },
  {
   "cell_type": "markdown",
   "id": "f662d169",
   "metadata": {},
   "source": [
    "## Integrated Project: Understanding Maji Ndogo's agriculture\n",
    "© ExploreAI Academy"
   ]
  },
  {
   "cell_type": "markdown",
   "id": "26af890c",
   "metadata": {},
   "source": [
    "In this coding challenge, we will apply all of the skills we learned in Pandas."
   ]
  },
  {
   "cell_type": "markdown",
   "id": "2d230d14",
   "metadata": {
    "tags": []
   },
   "source": [
    "⚠️ **Note that this code challenge is graded and will contribute to your overall marks for this module. Submit this notebook for grading. Note that the names of the functions are different in this notebook. Transfer the code in your notebook to this submission notebook**\n",
    "\n",
    "### Instructions\n",
    "\n",
    "- **Do not add or remove cells in this notebook. Do not edit or remove the `### START FUNCTION` or `### END FUNCTION` comments. Do not add any code outside of the functions you are required to edit. Doing any of this will lead to a mark of 0%!**\n",
    "\n",
    "- Answer the questions according to the specifications provided.\n",
    "\n",
    "- Use the given cell in each question to see if your function matches the expected outputs.\n",
    "\n",
    "- Do not hard-code answers to the questions.\n",
    "\n",
    "- The use of StackOverflow, Google, and other online tools is permitted. However, copying a fellow student's code is not permissible and is considered a breach of the Honour code. Doing this will result in a mark of 0%."
   ]
  },
  {
   "cell_type": "markdown",
   "id": "8944ccbc",
   "metadata": {},
   "source": [
    "# Introduction"
   ]
  },
  {
   "cell_type": "markdown",
   "id": "cf2e633f",
   "metadata": {},
   "source": [
    "Hey there, I'm glad you're on board for the Maji Ndogo project AGAIN! Let me walk you through what we're up against and how we'll tackle it.\n",
    "\n",
    "As you know, we're in an ambitious project aimed at automating farming in Maji Ndogo, a place with diverse and challenging agricultural landscapes. Before we dive into the 'how' of farming, we need to figure out the 'where' and 'what'. It's not just about deploying technology; it's about making informed decisions on where to plant specific crops, considering factors like rainfall, soil type, climate, and many others.\n",
    "\n",
    "Our analysis is the groundwork for this entire automation project. We have an array of variables like soil fertility, climate conditions, and geographical data. By understanding these elements, we can recommend the best locations for different crops. It's a bit like solving a complex puzzle – each piece of data is crucial to seeing the bigger picture.\n",
    "\n",
    "We'll start by importing our dataset into a DataFrame. It is currently in an SQLite database, and split into tables. Unlike Power BI or SQL, data analysis in Python happens in a single table. So we will have to brush off those dusty SQL skills to get the data imported. Expect a bit of a mess in the data – it's part of the challenge. We need to clean it up and maybe reshape it to make sense of it. It's like sorting out the tools and materials we need and getting rid of what we don't.\n",
    "\n",
    "Here's where the real fun begins. We'll dive deep into the data, looking for patterns, and correlations. Each clue in the data leads us closer to understanding the best farming practices for Maji Ndogo. I'll be relying on your skills and insights. We'll be working through these steps together, discussing our findings and strategies.\n",
    "\n",
    "Let's gear up and get ready to make a real difference in Maji Ndogo. Ready to get started? Let's dive into our data and see what stories it has to tell us.\n",
    "\n",
    "Sanaa."
   ]
  },
  {
   "cell_type": "markdown",
   "id": "147be850",
   "metadata": {},
   "source": [
    "# Data dictionary"
   ]
  },
  {
   "cell_type": "markdown",
   "id": "bfe8e55e",
   "metadata": {},
   "source": [
    "**1. Geographic features**\n",
    "\n",
    "- **Field_ID:** A unique identifier for each field (BigInt).\n",
    " \n",
    "- **Elevation:** The elevation of the field above sea level in metres (Float).\n",
    "\n",
    "- **Latitude:** Geographical latitude of the field in degrees (Float).\n",
    "\n",
    "- **Longitude:** Geographical longitude of the field in degrees (Float).\n",
    "\n",
    "- **Location:** Province the field is in (Text).\n",
    "\n",
    "- **Slope:** The slope of the land in the field (Float).\n",
    "\n",
    "**2. Weather features**\n",
    "\n",
    "- **Field_ID:** Corresponding field identifier (BigInt).\n",
    "\n",
    "- **Rainfall:** Amount of rainfall in the area in mm (Float).\n",
    "\n",
    "- **Min_temperature_C:** Average minimum temperature recorded in Celsius (Float).\n",
    "\n",
    "- **Max_temperature_C:** Average maximum temperature recorded in Celsius (Float).\n",
    "\n",
    "- **Ave_temps:** Average temperature in Celcius (Float).\n",
    "\n",
    "**3. Soil and crop features**\n",
    "\n",
    "- **Field_ID:** Corresponding field identifier (BigInt).\n",
    "\n",
    "- **Soil_fertility:** A measure of soil fertility where 0 is infertile soil, and 1 is very fertile soil (Float).\n",
    "\n",
    "- **Soil_type:** Type of soil present in the field (Text).\n",
    "\n",
    "- **pH:** pH level of the soil, which is a measure of how acidic/basic the soil is (Float).\n",
    "\n",
    "**4. Farm management features**\n",
    "\n",
    "- **Field_ID:** Corresponding field identifier (BigInt).\n",
    "\n",
    "- **Pollution_level:** Level of pollution in the area where 0 is unpolluted and 1 is very polluted (Float).\n",
    "\n",
    "- **Plot_size:** Size of the plot in the field (Ha) (Float).\n",
    "\n",
    "- **Chosen_crop:** Type of crop chosen for cultivation (Text).\n",
    "\n",
    "- **Annual_yield:** Annual yield from the field (Float). This is the total output of the field. The field size and type of crop will affect the Annual Yield\n",
    "\n",
    "- **Standard_yield:** Standardised yield expected from the field, normalised per crop (Float). This is independent of field size, or crop type. Multiplying this number by the field size, and average crop yield will give the Annual_Yield."
   ]
  },
  {
   "cell_type": "markdown",
   "id": "936f0f12",
   "metadata": {},
   "source": [
    "**Average yield (tons/Ha) per crop type:**\n",
    "- **Coffee:** 1.5 \n",
    "\n",
    "- **Wheat:** 3\n",
    "\n",
    "- **Rice:** 4.5\n",
    "\n",
    "- **Maize:** 5.5\n",
    "\n",
    "- **Tea:** 1.2\n",
    "\n",
    "- **Potato:** 20\n",
    "\n",
    "- **Banana:** 30\n",
    "\n",
    "- **Cassava:** 13\n",
    "\n"
   ]
  },
  {
   "cell_type": "markdown",
   "id": "03b39b1a",
   "metadata": {},
   "source": [
    "Alright, let's walk through the process of importing our SQL data from multiple tables into a single DataFrame. This is a crucial step as it sets the foundation for all our subsequent analyses.\n",
    "\n",
    "We're dealing with an SQLite database, `Maji_Ndogo_farm_survey.db`, which contains multiple tables. We'll need to join these tables on a common key to create a comprehensive dataset for our analysis. The common key in our case is `Field_ID`.\n",
    "\n",
    "Here’s how we can do it:"
   ]
  },
  {
   "cell_type": "code",
   "execution_count": 1,
   "id": "399bb333",
   "metadata": {},
   "outputs": [],
   "source": [
    "import pandas as pd\n",
    "from sqlalchemy import create_engine,text #this imports the SQL interface\n",
    "\n",
    "# create an engine for the database\n",
    "engine=create_engine('sqlite:///Maji_Ndogo_farm_survey_small.db')\n"
   ]
  },
  {
   "cell_type": "code",
   "execution_count": 2,
   "id": "aedfcf44",
   "metadata": {},
   "outputs": [],
   "source": [
    "import pandas as pd # importing the Pandas package with an alias, pd\n",
    "from sqlalchemy import create_engine, text # Importing the SQL interface. If this fails, run !pip install sqlalchemy in another cell.\n",
    "\n",
    "# Create an engine for the database\n",
    "engine = create_engine('sqlite:///Maji_Ndogo_farm_survey_small.db') #Make sure to have the .db file in the same directory as this notebook, and the file name matches."
   ]
  },
  {
   "cell_type": "markdown",
   "id": "50b71f19",
   "metadata": {},
   "source": [
    "Next up, we test if the connection works by printing out all of the table names in the database."
   ]
  },
  {
   "cell_type": "code",
   "execution_count": 3,
   "id": "29530db7",
   "metadata": {},
   "outputs": [
    {
     "name": "stdout",
     "output_type": "stream",
     "text": [
      "('geographic_features',)\n",
      "('weather_features',)\n",
      "('soil_and_crop_features',)\n",
      "('farm_management_features',)\n"
     ]
    }
   ],
   "source": [
    "# Test the connection if it work.\n",
    "# ///print out all thetables\n",
    "\n",
    "with engine.connect() as connection:\n",
    "    result=connection.execute(text(\"SELECT name FROM sqlite_master WHERE type='table';\"))\n",
    "    for row in result:\n",
    "        print(row)\n",
    "    "
   ]
  },
  {
   "cell_type": "code",
   "execution_count": 4,
   "id": "40ee695d",
   "metadata": {},
   "outputs": [
    {
     "name": "stdout",
     "output_type": "stream",
     "text": [
      "('geographic_features',)\n",
      "('weather_features',)\n",
      "('soil_and_crop_features',)\n",
      "('farm_management_features',)\n"
     ]
    }
   ],
   "source": [
    "with engine.connect() as connection:\n",
    "    result = connection.execute(text(\"SELECT name FROM sqlite_master WHERE type='table';\"))\n",
    "    for row in result:\n",
    "        print(row)"
   ]
  },
  {
   "cell_type": "markdown",
   "id": "e5838b83",
   "metadata": {},
   "source": [
    "**Expected output:**\n",
    "\n",
    "`('geographic_features',)`\n",
    "\n",
    "`('weather_features',)`\n",
    "\n",
    "`('soil_and_crop_features',)`\n",
    "\n",
    "`('farm_management_features',)`"
   ]
  },
  {
   "cell_type": "markdown",
   "id": "6ce2023f",
   "metadata": {},
   "source": [
    "At this point, we have two choices:\n",
    "\n",
    "1. Either we import each table into a DataFrame, for example, `df_geographic`, then merge them together.\n",
    "\n",
    "2. Use one SQL query and read it into a single DataFrame.\n",
    "\n",
    "While both are equally viable, let's try to use a single SQL query to keep things simple."
   ]
  },
  {
   "cell_type": "markdown",
   "id": "aa9cd3cf",
   "metadata": {},
   "source": [
    "Next, we'll write an SQL query to join our tables. Combine all of the tables into a single query, using `Field_ID`."
   ]
  },
  {
   "cell_type": "code",
   "execution_count": 5,
   "id": "0c6a0d9f",
   "metadata": {},
   "outputs": [
    {
     "data": {
      "text/plain": [
       "'\\n    SELECT * \\n    FROM geographic_features gf\\n    JOIN weather_features wf\\n        ON gf.Field_ID=wf.Field_ID\\n    JOIN soil_and_crop_features scf\\n        ON wf.Field_ID=scf.Field_ID\\n    JOIN farm_management_features fmf\\n        ON scf.Field_ID=fmf.Field_ID\\n    \\n'"
      ]
     },
     "execution_count": 5,
     "metadata": {},
     "output_type": "execute_result"
    }
   ],
   "source": [
    "sql_query = \"\"\"\n",
    "    SELECT * \n",
    "    FROM geographic_features gf\n",
    "    JOIN weather_features wf\n",
    "        ON gf.Field_ID=wf.Field_ID\n",
    "    JOIN soil_and_crop_features scf\n",
    "        ON wf.Field_ID=scf.Field_ID\n",
    "    JOIN farm_management_features fmf\n",
    "        ON scf.Field_ID=fmf.Field_ID\n",
    "    \n",
    "\"\"\"\n",
    "sql_query"
   ]
  },
  {
   "cell_type": "markdown",
   "id": "c476ff1c",
   "metadata": {},
   "source": [
    "With our engine and query ready, we'll use `Pandas` to execute the query. The `pd.read_sql_query` function fetches the data and loads it into a DataFrame – essentially transferring our data from the database into a familiar `Pandas` structure. If you use one query, you will import it all into `MD_agric_df`. "
   ]
  },
  {
   "cell_type": "code",
   "execution_count": 6,
   "id": "fd4653b4",
   "metadata": {},
   "outputs": [],
   "source": [
    "# Create a connection object\n",
    "with engine.connect() as connection:\n",
    "    \n",
    "    # Use Pandas to execute the query and store the result in a DataFrame\n",
    "    MD_agric_df = pd.read_sql_query(text(sql_query), connection)"
   ]
  },
  {
   "cell_type": "markdown",
   "id": "6171c658",
   "metadata": {},
   "source": [
    "Check the DataFrame to see if it loaded correctly."
   ]
  },
  {
   "cell_type": "code",
   "execution_count": 7,
   "id": "3e370c4c",
   "metadata": {},
   "outputs": [
    {
     "data": {
      "text/html": [
       "<div>\n",
       "<style scoped>\n",
       "    .dataframe tbody tr th:only-of-type {\n",
       "        vertical-align: middle;\n",
       "    }\n",
       "\n",
       "    .dataframe tbody tr th {\n",
       "        vertical-align: top;\n",
       "    }\n",
       "\n",
       "    .dataframe thead th {\n",
       "        text-align: right;\n",
       "    }\n",
       "</style>\n",
       "<table border=\"1\" class=\"dataframe\">\n",
       "  <thead>\n",
       "    <tr style=\"text-align: right;\">\n",
       "      <th></th>\n",
       "      <th>Field_ID</th>\n",
       "      <th>Elevation</th>\n",
       "      <th>Latitude</th>\n",
       "      <th>Longitude</th>\n",
       "      <th>Location</th>\n",
       "      <th>Slope</th>\n",
       "      <th>Field_ID</th>\n",
       "      <th>Rainfall</th>\n",
       "      <th>Min_temperature_C</th>\n",
       "      <th>Max_temperature_C</th>\n",
       "      <th>...</th>\n",
       "      <th>Field_ID</th>\n",
       "      <th>Soil_fertility</th>\n",
       "      <th>Soil_type</th>\n",
       "      <th>pH</th>\n",
       "      <th>Field_ID</th>\n",
       "      <th>Pollution_level</th>\n",
       "      <th>Plot_size</th>\n",
       "      <th>Crop_type</th>\n",
       "      <th>Annual_yield</th>\n",
       "      <th>Standard_yield</th>\n",
       "    </tr>\n",
       "  </thead>\n",
       "  <tbody>\n",
       "    <tr>\n",
       "      <th>0</th>\n",
       "      <td>40734</td>\n",
       "      <td>786.05580</td>\n",
       "      <td>-7.389911</td>\n",
       "      <td>-7.556202</td>\n",
       "      <td>Rural_Akatsi</td>\n",
       "      <td>14.795113</td>\n",
       "      <td>40734</td>\n",
       "      <td>1125.2</td>\n",
       "      <td>-3.1</td>\n",
       "      <td>33.1</td>\n",
       "      <td>...</td>\n",
       "      <td>40734</td>\n",
       "      <td>0.62</td>\n",
       "      <td>Sandy</td>\n",
       "      <td>6.169393</td>\n",
       "      <td>40734</td>\n",
       "      <td>8.526684e-02</td>\n",
       "      <td>1.3</td>\n",
       "      <td>0.751354</td>\n",
       "      <td>cassava</td>\n",
       "      <td>0.577964</td>\n",
       "    </tr>\n",
       "    <tr>\n",
       "      <th>1</th>\n",
       "      <td>30629</td>\n",
       "      <td>674.33410</td>\n",
       "      <td>-7.736849</td>\n",
       "      <td>-1.051539</td>\n",
       "      <td>Rural_Sokoto</td>\n",
       "      <td>11.374611</td>\n",
       "      <td>30629</td>\n",
       "      <td>1450.7</td>\n",
       "      <td>-3.9</td>\n",
       "      <td>30.6</td>\n",
       "      <td>...</td>\n",
       "      <td>30629</td>\n",
       "      <td>0.64</td>\n",
       "      <td>Volcanic</td>\n",
       "      <td>5.676648</td>\n",
       "      <td>30629</td>\n",
       "      <td>3.996838e-01</td>\n",
       "      <td>2.2</td>\n",
       "      <td>1.069865</td>\n",
       "      <td>cassava</td>\n",
       "      <td>0.486302</td>\n",
       "    </tr>\n",
       "    <tr>\n",
       "      <th>2</th>\n",
       "      <td>39924</td>\n",
       "      <td>826.53390</td>\n",
       "      <td>-9.926616</td>\n",
       "      <td>0.115156</td>\n",
       "      <td>Rural_Sokoto</td>\n",
       "      <td>11.339692</td>\n",
       "      <td>39924</td>\n",
       "      <td>2208.9</td>\n",
       "      <td>-1.8</td>\n",
       "      <td>28.4</td>\n",
       "      <td>...</td>\n",
       "      <td>39924</td>\n",
       "      <td>0.69</td>\n",
       "      <td>Volcanic</td>\n",
       "      <td>5.331993</td>\n",
       "      <td>39924</td>\n",
       "      <td>3.580286e-01</td>\n",
       "      <td>3.4</td>\n",
       "      <td>2.208801</td>\n",
       "      <td>tea</td>\n",
       "      <td>0.649647</td>\n",
       "    </tr>\n",
       "    <tr>\n",
       "      <th>3</th>\n",
       "      <td>5754</td>\n",
       "      <td>574.94617</td>\n",
       "      <td>-2.420131</td>\n",
       "      <td>-6.592215</td>\n",
       "      <td>Rural_Kilimani</td>\n",
       "      <td>7.109855</td>\n",
       "      <td>5754</td>\n",
       "      <td>328.8</td>\n",
       "      <td>-5.8</td>\n",
       "      <td>32.2</td>\n",
       "      <td>...</td>\n",
       "      <td>5754</td>\n",
       "      <td>0.54</td>\n",
       "      <td>Loamy</td>\n",
       "      <td>5.328150</td>\n",
       "      <td>5754</td>\n",
       "      <td>2.866871e-01</td>\n",
       "      <td>2.4</td>\n",
       "      <td>1.277635</td>\n",
       "      <td>cassava</td>\n",
       "      <td>0.532348</td>\n",
       "    </tr>\n",
       "    <tr>\n",
       "      <th>4</th>\n",
       "      <td>14146</td>\n",
       "      <td>886.35300</td>\n",
       "      <td>-3.055434</td>\n",
       "      <td>-7.952609</td>\n",
       "      <td>Rural_Kilimani</td>\n",
       "      <td>55.007656</td>\n",
       "      <td>14146</td>\n",
       "      <td>785.2</td>\n",
       "      <td>-2.5</td>\n",
       "      <td>31.0</td>\n",
       "      <td>...</td>\n",
       "      <td>14146</td>\n",
       "      <td>0.72</td>\n",
       "      <td>Sandy</td>\n",
       "      <td>5.721234</td>\n",
       "      <td>14146</td>\n",
       "      <td>4.319027e-02</td>\n",
       "      <td>1.5</td>\n",
       "      <td>0.832614</td>\n",
       "      <td>wheat</td>\n",
       "      <td>0.555076</td>\n",
       "    </tr>\n",
       "    <tr>\n",
       "      <th>...</th>\n",
       "      <td>...</td>\n",
       "      <td>...</td>\n",
       "      <td>...</td>\n",
       "      <td>...</td>\n",
       "      <td>...</td>\n",
       "      <td>...</td>\n",
       "      <td>...</td>\n",
       "      <td>...</td>\n",
       "      <td>...</td>\n",
       "      <td>...</td>\n",
       "      <td>...</td>\n",
       "      <td>...</td>\n",
       "      <td>...</td>\n",
       "      <td>...</td>\n",
       "      <td>...</td>\n",
       "      <td>...</td>\n",
       "      <td>...</td>\n",
       "      <td>...</td>\n",
       "      <td>...</td>\n",
       "      <td>...</td>\n",
       "      <td>...</td>\n",
       "    </tr>\n",
       "    <tr>\n",
       "      <th>5649</th>\n",
       "      <td>11472</td>\n",
       "      <td>681.36145</td>\n",
       "      <td>-7.358371</td>\n",
       "      <td>-6.254369</td>\n",
       "      <td>Rural_Akatsi</td>\n",
       "      <td>16.213196</td>\n",
       "      <td>11472</td>\n",
       "      <td>885.7</td>\n",
       "      <td>-4.3</td>\n",
       "      <td>33.4</td>\n",
       "      <td>...</td>\n",
       "      <td>11472</td>\n",
       "      <td>0.61</td>\n",
       "      <td>Sandy</td>\n",
       "      <td>5.741063</td>\n",
       "      <td>11472</td>\n",
       "      <td>3.286828e-01</td>\n",
       "      <td>1.1</td>\n",
       "      <td>0.609930</td>\n",
       "      <td>potato</td>\n",
       "      <td>0.554482</td>\n",
       "    </tr>\n",
       "    <tr>\n",
       "      <th>5650</th>\n",
       "      <td>19660</td>\n",
       "      <td>667.02120</td>\n",
       "      <td>-3.154559</td>\n",
       "      <td>-4.475046</td>\n",
       "      <td>Rural_Kilimani</td>\n",
       "      <td>2.397553</td>\n",
       "      <td>19660</td>\n",
       "      <td>501.1</td>\n",
       "      <td>-4.8</td>\n",
       "      <td>32.1</td>\n",
       "      <td>...</td>\n",
       "      <td>19660</td>\n",
       "      <td>0.54</td>\n",
       "      <td>Sandy</td>\n",
       "      <td>5.445833</td>\n",
       "      <td>19660</td>\n",
       "      <td>1.602583e-01</td>\n",
       "      <td>8.7</td>\n",
       "      <td>3.812289</td>\n",
       "      <td>maize</td>\n",
       "      <td>0.438194</td>\n",
       "    </tr>\n",
       "    <tr>\n",
       "      <th>5651</th>\n",
       "      <td>41296</td>\n",
       "      <td>670.77900</td>\n",
       "      <td>-14.472861</td>\n",
       "      <td>-6.110221</td>\n",
       "      <td>Rural_Hawassa</td>\n",
       "      <td>7.636470</td>\n",
       "      <td>41296</td>\n",
       "      <td>1586.6</td>\n",
       "      <td>-3.8</td>\n",
       "      <td>33.4</td>\n",
       "      <td>...</td>\n",
       "      <td>41296</td>\n",
       "      <td>0.64</td>\n",
       "      <td>Volcanic</td>\n",
       "      <td>5.385873</td>\n",
       "      <td>41296</td>\n",
       "      <td>8.221326e-09</td>\n",
       "      <td>2.1</td>\n",
       "      <td>1.681629</td>\n",
       "      <td>tea</td>\n",
       "      <td>0.800776</td>\n",
       "    </tr>\n",
       "    <tr>\n",
       "      <th>5652</th>\n",
       "      <td>33090</td>\n",
       "      <td>429.48840</td>\n",
       "      <td>-14.653089</td>\n",
       "      <td>-6.984116</td>\n",
       "      <td>Rural_Hawassa</td>\n",
       "      <td>13.944720</td>\n",
       "      <td>33090</td>\n",
       "      <td>1272.2</td>\n",
       "      <td>-6.2</td>\n",
       "      <td>34.6</td>\n",
       "      <td>...</td>\n",
       "      <td>33090</td>\n",
       "      <td>0.63</td>\n",
       "      <td>Silt</td>\n",
       "      <td>5.562508</td>\n",
       "      <td>33090</td>\n",
       "      <td>6.917245e-10</td>\n",
       "      <td>1.3</td>\n",
       "      <td>0.659874</td>\n",
       "      <td>cassava</td>\n",
       "      <td>0.507595</td>\n",
       "    </tr>\n",
       "    <tr>\n",
       "      <th>5653</th>\n",
       "      <td>8375</td>\n",
       "      <td>763.09030</td>\n",
       "      <td>-4.317028</td>\n",
       "      <td>-6.344461</td>\n",
       "      <td>Rural_Kilimani</td>\n",
       "      <td>35.189430</td>\n",
       "      <td>8375</td>\n",
       "      <td>516.4</td>\n",
       "      <td>-3.8</td>\n",
       "      <td>29.6</td>\n",
       "      <td>...</td>\n",
       "      <td>8375</td>\n",
       "      <td>0.64</td>\n",
       "      <td>Sandy</td>\n",
       "      <td>5.087792</td>\n",
       "      <td>8375</td>\n",
       "      <td>2.612715e-01</td>\n",
       "      <td>0.5</td>\n",
       "      <td>0.226532</td>\n",
       "      <td>wheat</td>\n",
       "      <td>0.453064</td>\n",
       "    </tr>\n",
       "  </tbody>\n",
       "</table>\n",
       "<p>5654 rows × 21 columns</p>\n",
       "</div>"
      ],
      "text/plain": [
       "      Field_ID  Elevation   Latitude  Longitude        Location      Slope  \\\n",
       "0        40734  786.05580  -7.389911  -7.556202    Rural_Akatsi  14.795113   \n",
       "1        30629  674.33410  -7.736849  -1.051539    Rural_Sokoto  11.374611   \n",
       "2        39924  826.53390  -9.926616   0.115156    Rural_Sokoto  11.339692   \n",
       "3         5754  574.94617  -2.420131  -6.592215  Rural_Kilimani   7.109855   \n",
       "4        14146  886.35300  -3.055434  -7.952609  Rural_Kilimani  55.007656   \n",
       "...        ...        ...        ...        ...             ...        ...   \n",
       "5649     11472  681.36145  -7.358371  -6.254369    Rural_Akatsi  16.213196   \n",
       "5650     19660  667.02120  -3.154559  -4.475046  Rural_Kilimani   2.397553   \n",
       "5651     41296  670.77900 -14.472861  -6.110221   Rural_Hawassa   7.636470   \n",
       "5652     33090  429.48840 -14.653089  -6.984116   Rural_Hawassa  13.944720   \n",
       "5653      8375  763.09030  -4.317028  -6.344461  Rural_Kilimani  35.189430   \n",
       "\n",
       "      Field_ID  Rainfall  Min_temperature_C  Max_temperature_C  ...  Field_ID  \\\n",
       "0        40734    1125.2               -3.1               33.1  ...     40734   \n",
       "1        30629    1450.7               -3.9               30.6  ...     30629   \n",
       "2        39924    2208.9               -1.8               28.4  ...     39924   \n",
       "3         5754     328.8               -5.8               32.2  ...      5754   \n",
       "4        14146     785.2               -2.5               31.0  ...     14146   \n",
       "...        ...       ...                ...                ...  ...       ...   \n",
       "5649     11472     885.7               -4.3               33.4  ...     11472   \n",
       "5650     19660     501.1               -4.8               32.1  ...     19660   \n",
       "5651     41296    1586.6               -3.8               33.4  ...     41296   \n",
       "5652     33090    1272.2               -6.2               34.6  ...     33090   \n",
       "5653      8375     516.4               -3.8               29.6  ...      8375   \n",
       "\n",
       "      Soil_fertility  Soil_type        pH  Field_ID  Pollution_level  \\\n",
       "0               0.62      Sandy  6.169393     40734     8.526684e-02   \n",
       "1               0.64   Volcanic  5.676648     30629     3.996838e-01   \n",
       "2               0.69   Volcanic  5.331993     39924     3.580286e-01   \n",
       "3               0.54      Loamy  5.328150      5754     2.866871e-01   \n",
       "4               0.72      Sandy  5.721234     14146     4.319027e-02   \n",
       "...              ...        ...       ...       ...              ...   \n",
       "5649            0.61      Sandy  5.741063     11472     3.286828e-01   \n",
       "5650            0.54      Sandy  5.445833     19660     1.602583e-01   \n",
       "5651            0.64   Volcanic  5.385873     41296     8.221326e-09   \n",
       "5652            0.63       Silt  5.562508     33090     6.917245e-10   \n",
       "5653            0.64      Sandy  5.087792      8375     2.612715e-01   \n",
       "\n",
       "      Plot_size  Crop_type  Annual_yield Standard_yield  \n",
       "0           1.3   0.751354       cassava       0.577964  \n",
       "1           2.2   1.069865       cassava       0.486302  \n",
       "2           3.4   2.208801           tea       0.649647  \n",
       "3           2.4   1.277635       cassava       0.532348  \n",
       "4           1.5   0.832614         wheat       0.555076  \n",
       "...         ...        ...           ...            ...  \n",
       "5649        1.1   0.609930        potato       0.554482  \n",
       "5650        8.7   3.812289         maize       0.438194  \n",
       "5651        2.1   1.681629           tea       0.800776  \n",
       "5652        1.3   0.659874       cassava       0.507595  \n",
       "5653        0.5   0.226532         wheat       0.453064  \n",
       "\n",
       "[5654 rows x 21 columns]"
      ]
     },
     "execution_count": 7,
     "metadata": {},
     "output_type": "execute_result"
    }
   ],
   "source": [
    "MD_agric_df"
   ]
  },
  {
   "cell_type": "markdown",
   "id": "0b0cc230",
   "metadata": {},
   "source": [
    "Note that there are a couple of `Field_ID` columns in our DataFrame that we need to remove since we're not interested in particular farms for now."
   ]
  },
  {
   "cell_type": "code",
   "execution_count": 8,
   "id": "d8e8d24c",
   "metadata": {},
   "outputs": [],
   "source": [
    "# Now, drop all columns named 'Field_ID'.\n",
    "# MD_agric_df.drop(columns = 'Field_ID', inplace = True)\n",
    "MD_agric_df.drop(columns='Field_ID',inplace=True)"
   ]
  },
  {
   "cell_type": "markdown",
   "id": "0837de59",
   "metadata": {},
   "source": [
    "# Data cleanup"
   ]
  },
  {
   "cell_type": "markdown",
   "id": "8da2b362",
   "metadata": {},
   "source": [
    "I noticed some errors in the data. Here's what I picked up:\n",
    "\n",
    "1. There are some swapped column names. Please ensure to use the correct name. \n",
    "\n",
    "2. Some of the crop types contain spelling errors.\n",
    "\n",
    "3.  The `Elevation` column contains some negative values, which are not plausible, so change these to positive values.\n",
    "\n",
    "Use your Pandas skills to clean up the data."
   ]
  },
  {
   "cell_type": "code",
   "execution_count": 10,
   "id": "26b22740",
   "metadata": {},
   "outputs": [],
   "source": [
    "# Insert your code here\n",
    "# Rename the columns\n",
    "MD_agric_df[[\"Crop_type\",\"Annual_yield\"]]=MD_agric_df[[\"Annual_yield\",\"Crop_type\"]]\n",
    "# remove whitespace\n",
    "MD_agric_df['Crop_type']=MD_agric_df['Crop_type'].str.strip()\n",
    "# rename the incorrect crops\n",
    "MD_agric_df['Crop_type']=MD_agric_df['Crop_type'].str.lower().str.replace(\"cassaval\",\"cassava\").str.lower().str.replace('teaa','tea').str.lower().str.replace('wheatn','wheat')\n",
    "MD_agric_df['Crop_type'].unique()\n",
    "# remove -ve values from the elevation\n",
    "\n",
    "MD_agric_df['Elevation']=MD_agric_df['Elevation'].apply(lambda x:abs(x))\n",
    "\n",
    "\n",
    "\n"
   ]
  },
  {
   "cell_type": "markdown",
   "id": "b5c0fed1",
   "metadata": {},
   "source": [
    "## Final data checkup"
   ]
  },
  {
   "cell_type": "markdown",
   "id": "321fdc11",
   "metadata": {},
   "source": [
    "Compare your answers to the expected output to make sure your data is corrected."
   ]
  },
  {
   "cell_type": "code",
   "execution_count": 11,
   "id": "3000a401",
   "metadata": {},
   "outputs": [
    {
     "data": {
      "text/plain": [
       "8"
      ]
     },
     "execution_count": 11,
     "metadata": {},
     "output_type": "execute_result"
    }
   ],
   "source": [
    "len(MD_agric_df['Crop_type'].unique())"
   ]
  },
  {
   "cell_type": "markdown",
   "id": "aa8309f1",
   "metadata": {},
   "source": [
    "Expected output: `8`"
   ]
  },
  {
   "cell_type": "code",
   "execution_count": 12,
   "id": "e1371959",
   "metadata": {},
   "outputs": [
    {
     "data": {
      "text/plain": [
       "35.910797"
      ]
     },
     "execution_count": 12,
     "metadata": {},
     "output_type": "execute_result"
    }
   ],
   "source": [
    "MD_agric_df['Elevation'].min()"
   ]
  },
  {
   "cell_type": "markdown",
   "id": "1ffa4440",
   "metadata": {},
   "source": [
    "Expected output: `35.910797`"
   ]
  },
  {
   "cell_type": "code",
   "execution_count": 13,
   "id": "87ba5369",
   "metadata": {},
   "outputs": [
    {
     "data": {
      "text/plain": [
       "dtype('float64')"
      ]
     },
     "execution_count": 13,
     "metadata": {},
     "output_type": "execute_result"
    }
   ],
   "source": [
    "MD_agric_df['Annual_yield'].dtype"
   ]
  },
  {
   "cell_type": "markdown",
   "id": "0697d96b",
   "metadata": {},
   "source": [
    "Expected outcome: `dtype('float64')`"
   ]
  },
  {
   "cell_type": "markdown",
   "id": "0324a485",
   "metadata": {},
   "source": [
    "# Analysis"
   ]
  },
  {
   "cell_type": "markdown",
   "id": "9a1fddb1",
   "metadata": {},
   "source": [
    "## Challenge 1: Uncovering crop preferences"
   ]
  },
  {
   "cell_type": "markdown",
   "id": "55b8dc1b",
   "metadata": {},
   "source": [
    "Now that we have our data ready, let's delve into understanding where different crops are grown in Maji Ndogo. Our initial step is to focus on tea, a key crop in Maji Ndogo. We need to determine the optimal conditions for its growth. By analyzing data related to elevation, rainfall, and soil type specifically for tea plantations, we'll start to paint a picture of where our farming systems could thrive.\n",
    "\n",
    "**Task:**\n",
    "Create a function that includes only tea fields and returns a tuple with the mean `Rainfall` and the mean `Elevation`. The function should input the full DataFrame, a string value for the crop type to filter by, and output a tuple with rainfall and elevation.\n"
   ]
  },
  {
   "cell_type": "code",
   "execution_count": 21,
   "id": "86896dc5",
   "metadata": {},
   "outputs": [
    {
     "data": {
      "text/plain": [
       "(1010.2859910581222, 595.8384148002981)"
      ]
     },
     "execution_count": 21,
     "metadata": {},
     "output_type": "execute_result"
    }
   ],
   "source": [
    "### START FUNCTION\n",
    "def explore_crop_distribution(df,crop_filter):\n",
    "    # Insert your code here\n",
    "    df=df[df[\"Crop_type\"]==crop_filter]\n",
    "    mean_rainfall=df['Rainfall'].mean()\n",
    "    mean_elevation=df['Elevation'].mean()\n",
    "    return mean_rainfall,mean_elevation\n",
    "### END FUNCTION\n",
    "\n",
    "explore_crop_distribution(MD_agric_df,'wheat')"
   ]
  },
  {
   "cell_type": "markdown",
   "id": "9be4474e",
   "metadata": {},
   "source": [
    "Input:"
   ]
  },
  {
   "cell_type": "code",
   "execution_count": null,
   "id": "66ca9510",
   "metadata": {},
   "outputs": [],
   "source": [
    "explore_crop_distribution(MD_agric_df, \"tea\")"
   ]
  },
  {
   "cell_type": "markdown",
   "id": "2ae64880",
   "metadata": {},
   "source": [
    "Expected output: `(1534.5079956188388, 775.208667535597)`"
   ]
  },
  {
   "cell_type": "code",
   "execution_count": 36,
   "id": "56d76595",
   "metadata": {},
   "outputs": [
    {
     "data": {
      "text/plain": [
       "(681.0102756892231, 680.596981904762)"
      ]
     },
     "execution_count": 36,
     "metadata": {},
     "output_type": "execute_result"
    }
   ],
   "source": [
    "explore_crop_distribution(MD_agric_df, \"maize\")"
   ]
  },
  {
   "cell_type": "code",
   "execution_count": 25,
   "id": "2eceb80b",
   "metadata": {},
   "outputs": [
    {
     "data": {
      "text/plain": [
       "array(['cassava', 'tea', 'wheat', 'potato', 'banana', 'coffee', 'rice',\n",
       "       'maize'], dtype=object)"
      ]
     },
     "execution_count": 25,
     "metadata": {},
     "output_type": "execute_result"
    }
   ],
   "source": [
    "MD_agric_df['Crop_type'].unique()"
   ]
  },
  {
   "cell_type": "markdown",
   "id": "74cd8725",
   "metadata": {},
   "source": [
    "Expected output: `(1010.2859910581222, 595.8384148002981)`"
   ]
  },
  {
   "cell_type": "markdown",
   "id": "78795c87",
   "metadata": {},
   "source": [
    "Repeat this for a couple of crops to get a feeling for where crops are planted in Majio Ndogo."
   ]
  },
  {
   "cell_type": "markdown",
   "id": "2372ccb9",
   "metadata": {},
   "source": [
    "## Challenge 2: Finding fertile grounds\n"
   ]
  },
  {
   "cell_type": "markdown",
   "id": "628c4cc1",
   "metadata": {},
   "source": [
    "With insights into tea cultivation, let's broaden our horizons. Fertile soil is the bedrock of successful farming. By grouping our data by location and soil type, we'll pinpoint where the most fertile soils in Maji Ndogo are. These fertile zones could be prime candidates for diverse crop cultivation, maximising our yield.\n",
    "\n",
    "We’ll group our data by soil type to see where the most fertile grounds are. This information will be vital for deciding where to deploy our farming technology.\n",
    "\n",
    "**Task:** Create a function that groups the data by `Soil_type`, and returns the `Soil_fertility`."
   ]
  },
  {
   "cell_type": "code",
   "execution_count": 44,
   "id": "064f3d6b",
   "metadata": {},
   "outputs": [
    {
     "data": {
      "text/plain": [
       "Soil_type\n",
       "Loamy       0.585868\n",
       "Peaty       0.604882\n",
       "Rocky       0.582368\n",
       "Sandy       0.595669\n",
       "Silt        0.652654\n",
       "Volcanic    0.648894\n",
       "Name: Soil_fertility, dtype: float64"
      ]
     },
     "execution_count": 44,
     "metadata": {},
     "output_type": "execute_result"
    }
   ],
   "source": [
    "### START FUNCTION\n",
    "def analyse_soil_fertility(df):\n",
    "    # Insert your code here\n",
    "    df=df.groupby(['Soil_type'])['Soil_fertility'].mean()\n",
    "    return df\n",
    "### END FUNCTION\n",
    "\n",
    "analyse_soil_fertility(MD_agric_df)\n"
   ]
  },
  {
   "cell_type": "markdown",
   "id": "39424119",
   "metadata": {},
   "source": [
    "Input:"
   ]
  },
  {
   "cell_type": "code",
   "execution_count": null,
   "id": "bc11f72f",
   "metadata": {},
   "outputs": [],
   "source": [
    "analyse_soil_fertility(MD_agric_df)"
   ]
  },
  {
   "cell_type": "markdown",
   "id": "788a7f56",
   "metadata": {},
   "source": [
    "Expected output:\n",
    "```python Soil_Type\n",
    "Loamy       0.585868\n",
    "Peaty       0.604882\n",
    "Rocky       0.582368\n",
    "Sandy       0.595669\n",
    "Silt        0.652654\n",
    "Volcanic    0.648894\n",
    "Name: Soil_Fertility, dtype: float64\n",
    "```"
   ]
  },
  {
   "cell_type": "markdown",
   "id": "e9b1845f",
   "metadata": {},
   "source": [
    "Try digging into the data a bit more by aggregating various data to identify some more patterns. "
   ]
  },
  {
   "cell_type": "markdown",
   "id": "8e2d8de9",
   "metadata": {},
   "source": [
    "## Challenge 3: Climate and geography analysis"
   ]
  },
  {
   "cell_type": "markdown",
   "id": "8cc62613",
   "metadata": {},
   "source": [
    "Now, let's delve into how climate and geography influence farming. By understanding the relationship between factors like elevation, temperature, and rainfall with crop yields, we can identify the most suitable areas for different crops. This analysis is key to ensuring our automated systems are deployed in locations that will maximise their effectiveness.\n",
    "\n",
    "**Task:** Create a function that takes in a DataFrame and the column name, and groups the data by that column, and aggregates the data by the means of `Elevation`, `Min_temperature_C`, `Max_temperature_C`, and `Rainfall`, and outputs a DataFrame. Please ensure that the order of the columns matches the output."
   ]
  },
  {
   "cell_type": "code",
   "execution_count": 45,
   "id": "29474e68",
   "metadata": {
    "scrolled": true
   },
   "outputs": [
    {
     "data": {
      "text/html": [
       "<div>\n",
       "<style scoped>\n",
       "    .dataframe tbody tr th:only-of-type {\n",
       "        vertical-align: middle;\n",
       "    }\n",
       "\n",
       "    .dataframe tbody tr th {\n",
       "        vertical-align: top;\n",
       "    }\n",
       "\n",
       "    .dataframe thead th {\n",
       "        text-align: right;\n",
       "    }\n",
       "</style>\n",
       "<table border=\"1\" class=\"dataframe\">\n",
       "  <thead>\n",
       "    <tr style=\"text-align: right;\">\n",
       "      <th></th>\n",
       "      <th>Elevation</th>\n",
       "      <th>Min_temperature_C</th>\n",
       "      <th>Max_temperature_C</th>\n",
       "      <th>Rainfall</th>\n",
       "    </tr>\n",
       "    <tr>\n",
       "      <th>Crop_type</th>\n",
       "      <th></th>\n",
       "      <th></th>\n",
       "      <th></th>\n",
       "      <th></th>\n",
       "    </tr>\n",
       "  </thead>\n",
       "  <tbody>\n",
       "    <tr>\n",
       "      <th>banana</th>\n",
       "      <td>487.973572</td>\n",
       "      <td>-5.354344</td>\n",
       "      <td>31.988152</td>\n",
       "      <td>1659.905687</td>\n",
       "    </tr>\n",
       "    <tr>\n",
       "      <th>cassava</th>\n",
       "      <td>682.903008</td>\n",
       "      <td>-3.992113</td>\n",
       "      <td>30.902381</td>\n",
       "      <td>1210.543006</td>\n",
       "    </tr>\n",
       "    <tr>\n",
       "      <th>coffee</th>\n",
       "      <td>647.047734</td>\n",
       "      <td>-4.028007</td>\n",
       "      <td>30.855189</td>\n",
       "      <td>1527.265074</td>\n",
       "    </tr>\n",
       "    <tr>\n",
       "      <th>maize</th>\n",
       "      <td>680.596982</td>\n",
       "      <td>-4.497995</td>\n",
       "      <td>30.576692</td>\n",
       "      <td>681.010276</td>\n",
       "    </tr>\n",
       "    <tr>\n",
       "      <th>potato</th>\n",
       "      <td>696.313917</td>\n",
       "      <td>-4.375334</td>\n",
       "      <td>30.300608</td>\n",
       "      <td>660.289064</td>\n",
       "    </tr>\n",
       "    <tr>\n",
       "      <th>rice</th>\n",
       "      <td>352.858053</td>\n",
       "      <td>-6.610566</td>\n",
       "      <td>32.727170</td>\n",
       "      <td>1632.382642</td>\n",
       "    </tr>\n",
       "    <tr>\n",
       "      <th>tea</th>\n",
       "      <td>775.208668</td>\n",
       "      <td>-2.862651</td>\n",
       "      <td>29.950383</td>\n",
       "      <td>1534.507996</td>\n",
       "    </tr>\n",
       "    <tr>\n",
       "      <th>wheat</th>\n",
       "      <td>595.838415</td>\n",
       "      <td>-4.968107</td>\n",
       "      <td>30.973845</td>\n",
       "      <td>1010.285991</td>\n",
       "    </tr>\n",
       "  </tbody>\n",
       "</table>\n",
       "</div>"
      ],
      "text/plain": [
       "            Elevation  Min_temperature_C  Max_temperature_C     Rainfall\n",
       "Crop_type                                                               \n",
       "banana     487.973572          -5.354344          31.988152  1659.905687\n",
       "cassava    682.903008          -3.992113          30.902381  1210.543006\n",
       "coffee     647.047734          -4.028007          30.855189  1527.265074\n",
       "maize      680.596982          -4.497995          30.576692   681.010276\n",
       "potato     696.313917          -4.375334          30.300608   660.289064\n",
       "rice       352.858053          -6.610566          32.727170  1632.382642\n",
       "tea        775.208668          -2.862651          29.950383  1534.507996\n",
       "wheat      595.838415          -4.968107          30.973845  1010.285991"
      ]
     },
     "execution_count": 45,
     "metadata": {},
     "output_type": "execute_result"
    }
   ],
   "source": [
    "### START FUNCTION\n",
    "def climate_geography_influence(df,column):\n",
    "    # Insert your code here\n",
    "    df=df.groupby(column)[[\"Elevation\",\"Min_temperature_C\",\"Max_temperature_C\",\"Rainfall\"]].mean()\n",
    "    return df\n",
    "### END FUNCTION\n",
    "\n",
    "climate_geography_influence(MD_agric_df,'Crop_type')"
   ]
  },
  {
   "cell_type": "markdown",
   "id": "6448a869",
   "metadata": {},
   "source": [
    "Input:"
   ]
  },
  {
   "cell_type": "code",
   "execution_count": null,
   "id": "4c214f59",
   "metadata": {},
   "outputs": [],
   "source": [
    "climate_geography_influence(MD_agric_df, 'Crop_type')"
   ]
  },
  {
   "cell_type": "markdown",
   "id": "802ce1a4",
   "metadata": {},
   "source": [
    "Expected output:\n",
    "\n",
    "```sql\n",
    "Crop_type \tElevation\tMin_temperature_C\tMax_temperature_C\tRainfall\t\t\t\n",
    "banana\t\t487.973572\t-5.354344\t\t31.988152\t    1659.905687\n",
    "cassava\t\t682.903008\t-3.992113\t\t30.902381\t    1210.543006\n",
    "coffee\t\t647.047734\t-4.028007\t\t30.855189\t    1527.265074\n",
    "maize\t\t680.596982\t-4.497995\t\t30.576692\t    681.010276\n",
    "potato\t\t696.313917\t-4.375334\t\t30.300608\t    660.289064\n",
    "rice\t\t352.858053\t-6.610566\t\t32.727170\t    1632.382642\n",
    "tea\t\t775.208668\t-2.862651\t\t29.950383\t    1534.507996\n",
    "wheat\t\t595.838415\t-4.968107\t\t30.973845\t    1010.285991\n",
    "```"
   ]
  },
  {
   "cell_type": "markdown",
   "id": "977babed",
   "metadata": {},
   "source": [
    "## Challenge 4: Advanced sorting techniques"
   ]
  },
  {
   "cell_type": "markdown",
   "id": "ebf9f6f7",
   "metadata": {},
   "source": [
    "Quite often it is better to improve the things you're good at than improving the things you're bad at. So the question is, which crop is the top performer in Maji Ndogo, and under what conditions does it perform well? \n",
    "\n",
    "To answer this, we need to:\n",
    "1. Filter all the fields with an above-average `Standard_yield` (do you have flashbacks to SQL subqueries right now?).\n",
    "2. Then group by <?> crop type, using `count()`.\n",
    "3. Sort the values to get the top crop type on top.\n",
    "4. Retrieve the name of the top index. See the hint below on how to do this. \n",
    "\n",
    "**Task:** Create a function that takes a DataFrame as input, filters, groups and sorts, and outputs a string value of a crop type."
   ]
  },
  {
   "cell_type": "markdown",
   "id": "13b3d881",
   "metadata": {},
   "source": [
    "**Hint:** When you have grouped by a column, we can access the labels of that \"index column\" using `.index`. For example: "
   ]
  },
  {
   "cell_type": "code",
   "execution_count": 48,
   "id": "c0deef7c",
   "metadata": {},
   "outputs": [
    {
     "name": "stdout",
     "output_type": "stream",
     "text": [
      "Rocky\n"
     ]
    },
    {
     "data": {
      "text/html": [
       "<div>\n",
       "<style scoped>\n",
       "    .dataframe tbody tr th:only-of-type {\n",
       "        vertical-align: middle;\n",
       "    }\n",
       "\n",
       "    .dataframe tbody tr th {\n",
       "        vertical-align: top;\n",
       "    }\n",
       "\n",
       "    .dataframe thead th {\n",
       "        text-align: right;\n",
       "    }\n",
       "</style>\n",
       "<table border=\"1\" class=\"dataframe\">\n",
       "  <thead>\n",
       "    <tr style=\"text-align: right;\">\n",
       "      <th></th>\n",
       "      <th>Elevation</th>\n",
       "      <th>Latitude</th>\n",
       "      <th>Longitude</th>\n",
       "      <th>Slope</th>\n",
       "      <th>Rainfall</th>\n",
       "      <th>Min_temperature_C</th>\n",
       "      <th>Max_temperature_C</th>\n",
       "      <th>Ave_temps</th>\n",
       "      <th>Soil_fertility</th>\n",
       "      <th>pH</th>\n",
       "      <th>Pollution_level</th>\n",
       "      <th>Plot_size</th>\n",
       "      <th>Annual_yield</th>\n",
       "      <th>Standard_yield</th>\n",
       "    </tr>\n",
       "    <tr>\n",
       "      <th>Soil_type</th>\n",
       "      <th></th>\n",
       "      <th></th>\n",
       "      <th></th>\n",
       "      <th></th>\n",
       "      <th></th>\n",
       "      <th></th>\n",
       "      <th></th>\n",
       "      <th></th>\n",
       "      <th></th>\n",
       "      <th></th>\n",
       "      <th></th>\n",
       "      <th></th>\n",
       "      <th></th>\n",
       "      <th></th>\n",
       "    </tr>\n",
       "  </thead>\n",
       "  <tbody>\n",
       "    <tr>\n",
       "      <th>Rocky</th>\n",
       "      <td>892.665740</td>\n",
       "      <td>-4.115932</td>\n",
       "      <td>-4.774825</td>\n",
       "      <td>8.631688</td>\n",
       "      <td>841.874671</td>\n",
       "      <td>-2.425658</td>\n",
       "      <td>29.131579</td>\n",
       "      <td>13.352961</td>\n",
       "      <td>0.582368</td>\n",
       "      <td>5.239680</td>\n",
       "      <td>0.235317</td>\n",
       "      <td>4.431250</td>\n",
       "      <td>2.197934</td>\n",
       "      <td>0.497657</td>\n",
       "    </tr>\n",
       "    <tr>\n",
       "      <th>Volcanic</th>\n",
       "      <td>750.902092</td>\n",
       "      <td>-7.471007</td>\n",
       "      <td>-1.977809</td>\n",
       "      <td>10.883989</td>\n",
       "      <td>1630.504364</td>\n",
       "      <td>-2.993755</td>\n",
       "      <td>30.089992</td>\n",
       "      <td>13.548119</td>\n",
       "      <td>0.648894</td>\n",
       "      <td>4.915182</td>\n",
       "      <td>0.238390</td>\n",
       "      <td>4.228518</td>\n",
       "      <td>2.518344</td>\n",
       "      <td>0.596921</td>\n",
       "    </tr>\n",
       "    <tr>\n",
       "      <th>Sandy</th>\n",
       "      <td>743.456509</td>\n",
       "      <td>-4.886504</td>\n",
       "      <td>-4.993451</td>\n",
       "      <td>13.902178</td>\n",
       "      <td>797.665003</td>\n",
       "      <td>-3.821689</td>\n",
       "      <td>30.175496</td>\n",
       "      <td>13.176903</td>\n",
       "      <td>0.595669</td>\n",
       "      <td>5.652828</td>\n",
       "      <td>0.295577</td>\n",
       "      <td>3.527191</td>\n",
       "      <td>1.770793</td>\n",
       "      <td>0.504614</td>\n",
       "    </tr>\n",
       "    <tr>\n",
       "      <th>Loamy</th>\n",
       "      <td>552.383554</td>\n",
       "      <td>-4.577196</td>\n",
       "      <td>-3.715553</td>\n",
       "      <td>12.559178</td>\n",
       "      <td>724.785612</td>\n",
       "      <td>-5.620966</td>\n",
       "      <td>31.374717</td>\n",
       "      <td>12.876876</td>\n",
       "      <td>0.585868</td>\n",
       "      <td>5.670844</td>\n",
       "      <td>0.320841</td>\n",
       "      <td>3.567009</td>\n",
       "      <td>2.084702</td>\n",
       "      <td>0.579886</td>\n",
       "    </tr>\n",
       "    <tr>\n",
       "      <th>Peaty</th>\n",
       "      <td>467.291922</td>\n",
       "      <td>-10.635362</td>\n",
       "      <td>-5.611269</td>\n",
       "      <td>3.850355</td>\n",
       "      <td>1344.381176</td>\n",
       "      <td>-5.835294</td>\n",
       "      <td>32.032941</td>\n",
       "      <td>13.098824</td>\n",
       "      <td>0.604882</td>\n",
       "      <td>4.945214</td>\n",
       "      <td>0.088177</td>\n",
       "      <td>7.205294</td>\n",
       "      <td>3.265347</td>\n",
       "      <td>0.448361</td>\n",
       "    </tr>\n",
       "    <tr>\n",
       "      <th>Silt</th>\n",
       "      <td>424.196238</td>\n",
       "      <td>-11.138730</td>\n",
       "      <td>-6.258565</td>\n",
       "      <td>11.179052</td>\n",
       "      <td>1667.228365</td>\n",
       "      <td>-5.927452</td>\n",
       "      <td>32.306236</td>\n",
       "      <td>13.189392</td>\n",
       "      <td>0.652654</td>\n",
       "      <td>6.375260</td>\n",
       "      <td>0.064196</td>\n",
       "      <td>3.810418</td>\n",
       "      <td>1.865240</td>\n",
       "      <td>0.492600</td>\n",
       "    </tr>\n",
       "  </tbody>\n",
       "</table>\n",
       "</div>"
      ],
      "text/plain": [
       "            Elevation   Latitude  Longitude      Slope     Rainfall  \\\n",
       "Soil_type                                                             \n",
       "Rocky      892.665740  -4.115932  -4.774825   8.631688   841.874671   \n",
       "Volcanic   750.902092  -7.471007  -1.977809  10.883989  1630.504364   \n",
       "Sandy      743.456509  -4.886504  -4.993451  13.902178   797.665003   \n",
       "Loamy      552.383554  -4.577196  -3.715553  12.559178   724.785612   \n",
       "Peaty      467.291922 -10.635362  -5.611269   3.850355  1344.381176   \n",
       "Silt       424.196238 -11.138730  -6.258565  11.179052  1667.228365   \n",
       "\n",
       "           Min_temperature_C  Max_temperature_C  Ave_temps  Soil_fertility  \\\n",
       "Soil_type                                                                    \n",
       "Rocky              -2.425658          29.131579  13.352961        0.582368   \n",
       "Volcanic           -2.993755          30.089992  13.548119        0.648894   \n",
       "Sandy              -3.821689          30.175496  13.176903        0.595669   \n",
       "Loamy              -5.620966          31.374717  12.876876        0.585868   \n",
       "Peaty              -5.835294          32.032941  13.098824        0.604882   \n",
       "Silt               -5.927452          32.306236  13.189392        0.652654   \n",
       "\n",
       "                 pH  Pollution_level  Plot_size  Annual_yield  Standard_yield  \n",
       "Soil_type                                                                      \n",
       "Rocky      5.239680         0.235317   4.431250      2.197934        0.497657  \n",
       "Volcanic   4.915182         0.238390   4.228518      2.518344        0.596921  \n",
       "Sandy      5.652828         0.295577   3.527191      1.770793        0.504614  \n",
       "Loamy      5.670844         0.320841   3.567009      2.084702        0.579886  \n",
       "Peaty      4.945214         0.088177   7.205294      3.265347        0.448361  \n",
       "Silt       6.375260         0.064196   3.810418      1.865240        0.492600  "
      ]
     },
     "execution_count": 48,
     "metadata": {},
     "output_type": "execute_result"
    }
   ],
   "source": [
    "grouped_df = MD_agric_df.groupby(\"Soil_type\").mean(numeric_only = True).sort_values(by=\"Elevation\",ascending=False)\n",
    "print(grouped_df.index[0])\n",
    "grouped_df"
   ]
  },
  {
   "cell_type": "code",
   "execution_count": 59,
   "id": "4a4791a6",
   "metadata": {},
   "outputs": [
    {
     "data": {
      "text/plain": [
       "str"
      ]
     },
     "execution_count": 59,
     "metadata": {},
     "output_type": "execute_result"
    }
   ],
   "source": [
    "### START FUNCTION\n",
    "def find_ideal_fields(df):\n",
    "    mean_standard_yield=df['Standard_yield'].mean()\n",
    "    df=df[df['Standard_yield']>mean_standard_yield]\n",
    "    grouped_df=df.groupby(\"Crop_type\").count().sort_values(by=\"Elevation\",ascending=False)\n",
    "    return grouped_df.index[0]\n",
    "### END FUNCTION\n",
    "\n",
    "type(find_ideal_fields(MD_agric_df))"
   ]
  },
  {
   "cell_type": "markdown",
   "id": "7efcc079",
   "metadata": {},
   "source": [
    "Input:"
   ]
  },
  {
   "cell_type": "code",
   "execution_count": 58,
   "id": "01448eb0",
   "metadata": {},
   "outputs": [
    {
     "data": {
      "text/plain": [
       "str"
      ]
     },
     "execution_count": 58,
     "metadata": {},
     "output_type": "execute_result"
    }
   ],
   "source": [
    "type(find_ideal_fields(MD_agric_df))"
   ]
  },
  {
   "cell_type": "markdown",
   "id": "8fd44b50",
   "metadata": {},
   "source": [
    "Expected output: `str`"
   ]
  },
  {
   "cell_type": "markdown",
   "id": "ad7289df",
   "metadata": {},
   "source": [
    "# Challenge 5: Advanced filtering techniques"
   ]
  },
  {
   "cell_type": "markdown",
   "id": "7956f3ab",
   "metadata": {},
   "source": [
    "Now we know that <?> is our most successful crop, we can look at what makes it successful.\n",
    "\n",
    "Create a function that takes a DataFrame as input, and the type of crop, and filters the DataFrame using the following conditions:\n",
    "1. Filter by crop type.\n",
    "\n",
    "2. Select only rows that have above average `Standard_yield`.\n",
    "\n",
    "3. Select only rows that have `Ave_temps` >= 12 but =< 15.\n",
    "\n",
    "4. Have a `Pollution_level` lower than 0.0001."
   ]
  },
  {
   "cell_type": "code",
   "execution_count": 70,
   "id": "b99d9e12",
   "metadata": {},
   "outputs": [
    {
     "name": "stdout",
     "output_type": "stream",
     "text": [
      "0.6446840851645886\n"
     ]
    },
    {
     "data": {
      "text/plain": [
       "(14, 17)"
      ]
     },
     "execution_count": 70,
     "metadata": {},
     "output_type": "execute_result"
    }
   ],
   "source": [
    "### START FUNCTION\n",
    "def find_good_conditions(df, crop_type):\n",
    "    df=df[df['Crop_type']==crop_type]\n",
    "    avg_standard_yield=df['Standard_yield'].mean()\n",
    "    print(avg_standard_yield)\n",
    "    df=df[(df['Standard_yield']>avg_standard_yield)& (12<=df['Ave_temps'])&(df['Ave_temps']<=15)& (df['Pollution_level']<0.0001)]\n",
    "    return df\n",
    "### END FUNCTION\n",
    "find_good_conditions(MD_agric_df,'tea').shape"
   ]
  },
  {
   "cell_type": "markdown",
   "id": "c5bc44d2",
   "metadata": {},
   "source": [
    "Input:"
   ]
  },
  {
   "cell_type": "code",
   "execution_count": null,
   "id": "209203d1",
   "metadata": {},
   "outputs": [],
   "source": [
    "find_good_conditions(MD_agric_df, \"tea\").shape"
   ]
  },
  {
   "cell_type": "markdown",
   "id": "a522fb89",
   "metadata": {},
   "source": [
    "Expected output: `(14, 17)`"
   ]
  },
  {
   "cell_type": "markdown",
   "id": "463b4aa3",
   "metadata": {},
   "source": [
    "# Extra Pandas \"nuggets\""
   ]
  },
  {
   "cell_type": "markdown",
   "id": "c2ffa827",
   "metadata": {},
   "source": [
    "We have not even scratched the surface of Pandas or our dataset. If you remember back to your days with Chidi, it took a while before we could unlock the secrets the survey data had. So, scratch around a bit.\n",
    "\n",
    "On the Pandas front, it's the same. Pandas is a very powerful data analysis tool that takes a while to master. Many of the more advanced methods like window functions, dynamically retrieving or changing data, vectorisation, or processing big data with Pandas are all more advanced topics we encounter in the workplace.\n",
    "\n",
    "But here are two tiny 'nuggets' to upskill in Pandas."
   ]
  },
  {
   "cell_type": "markdown",
   "id": "184dc608",
   "metadata": {},
   "source": [
    "## df.query()"
   ]
  },
  {
   "cell_type": "markdown",
   "id": "026086fc",
   "metadata": {},
   "source": [
    "Oh, you're going to love this one... `df.query()` was designed to filter data, but using SQL-like syntax. For example:"
   ]
  },
  {
   "cell_type": "code",
   "execution_count": 74,
   "id": "a3d22c0b",
   "metadata": {},
   "outputs": [
    {
     "data": {
      "text/html": [
       "<div>\n",
       "<style scoped>\n",
       "    .dataframe tbody tr th:only-of-type {\n",
       "        vertical-align: middle;\n",
       "    }\n",
       "\n",
       "    .dataframe tbody tr th {\n",
       "        vertical-align: top;\n",
       "    }\n",
       "\n",
       "    .dataframe thead th {\n",
       "        text-align: right;\n",
       "    }\n",
       "</style>\n",
       "<table border=\"1\" class=\"dataframe\">\n",
       "  <thead>\n",
       "    <tr style=\"text-align: right;\">\n",
       "      <th></th>\n",
       "      <th>Elevation</th>\n",
       "      <th>Latitude</th>\n",
       "      <th>Longitude</th>\n",
       "      <th>Location</th>\n",
       "      <th>Slope</th>\n",
       "      <th>Rainfall</th>\n",
       "      <th>Min_temperature_C</th>\n",
       "      <th>Max_temperature_C</th>\n",
       "      <th>Ave_temps</th>\n",
       "      <th>Soil_fertility</th>\n",
       "      <th>Soil_type</th>\n",
       "      <th>pH</th>\n",
       "      <th>Pollution_level</th>\n",
       "      <th>Plot_size</th>\n",
       "      <th>Crop_type</th>\n",
       "      <th>Annual_yield</th>\n",
       "      <th>Standard_yield</th>\n",
       "    </tr>\n",
       "  </thead>\n",
       "  <tbody>\n",
       "    <tr>\n",
       "      <th>3</th>\n",
       "      <td>574.94617</td>\n",
       "      <td>-2.420131</td>\n",
       "      <td>-6.592215</td>\n",
       "      <td>Rural_Kilimani</td>\n",
       "      <td>7.109855</td>\n",
       "      <td>328.8</td>\n",
       "      <td>-5.8</td>\n",
       "      <td>32.2</td>\n",
       "      <td>13.20</td>\n",
       "      <td>0.54</td>\n",
       "      <td>Loamy</td>\n",
       "      <td>5.328150</td>\n",
       "      <td>0.286687</td>\n",
       "      <td>2.4</td>\n",
       "      <td>cassava</td>\n",
       "      <td>1.277635</td>\n",
       "      <td>0.532348</td>\n",
       "    </tr>\n",
       "    <tr>\n",
       "      <th>19</th>\n",
       "      <td>610.99400</td>\n",
       "      <td>-6.948353</td>\n",
       "      <td>-2.966000</td>\n",
       "      <td>Rural_Hawassa</td>\n",
       "      <td>16.369598</td>\n",
       "      <td>902.8</td>\n",
       "      <td>-4.9</td>\n",
       "      <td>28.4</td>\n",
       "      <td>11.75</td>\n",
       "      <td>0.61</td>\n",
       "      <td>Loamy</td>\n",
       "      <td>4.698949</td>\n",
       "      <td>0.303487</td>\n",
       "      <td>1.5</td>\n",
       "      <td>wheat</td>\n",
       "      <td>0.791114</td>\n",
       "      <td>0.527409</td>\n",
       "    </tr>\n",
       "    <tr>\n",
       "      <th>22</th>\n",
       "      <td>504.42505</td>\n",
       "      <td>-2.379580</td>\n",
       "      <td>-7.601249</td>\n",
       "      <td>Rural_Kilimani</td>\n",
       "      <td>3.906222</td>\n",
       "      <td>335.3</td>\n",
       "      <td>-6.4</td>\n",
       "      <td>32.6</td>\n",
       "      <td>13.10</td>\n",
       "      <td>0.53</td>\n",
       "      <td>Loamy</td>\n",
       "      <td>5.429212</td>\n",
       "      <td>0.057291</td>\n",
       "      <td>7.1</td>\n",
       "      <td>wheat</td>\n",
       "      <td>4.256354</td>\n",
       "      <td>0.599486</td>\n",
       "    </tr>\n",
       "    <tr>\n",
       "      <th>26</th>\n",
       "      <td>525.38104</td>\n",
       "      <td>-2.465188</td>\n",
       "      <td>-5.186775</td>\n",
       "      <td>Rural_Kilimani</td>\n",
       "      <td>6.809244</td>\n",
       "      <td>298.6</td>\n",
       "      <td>-6.3</td>\n",
       "      <td>33.8</td>\n",
       "      <td>13.75</td>\n",
       "      <td>0.54</td>\n",
       "      <td>Loamy</td>\n",
       "      <td>6.453105</td>\n",
       "      <td>0.192563</td>\n",
       "      <td>4.8</td>\n",
       "      <td>potato</td>\n",
       "      <td>2.603143</td>\n",
       "      <td>0.542321</td>\n",
       "    </tr>\n",
       "    <tr>\n",
       "      <th>44</th>\n",
       "      <td>562.14720</td>\n",
       "      <td>-7.953123</td>\n",
       "      <td>-2.222739</td>\n",
       "      <td>Rural_Sokoto</td>\n",
       "      <td>24.619905</td>\n",
       "      <td>1200.3</td>\n",
       "      <td>-5.3</td>\n",
       "      <td>31.8</td>\n",
       "      <td>13.25</td>\n",
       "      <td>0.66</td>\n",
       "      <td>Loamy</td>\n",
       "      <td>4.649274</td>\n",
       "      <td>0.262477</td>\n",
       "      <td>1.4</td>\n",
       "      <td>tea</td>\n",
       "      <td>0.948407</td>\n",
       "      <td>0.677433</td>\n",
       "    </tr>\n",
       "    <tr>\n",
       "      <th>...</th>\n",
       "      <td>...</td>\n",
       "      <td>...</td>\n",
       "      <td>...</td>\n",
       "      <td>...</td>\n",
       "      <td>...</td>\n",
       "      <td>...</td>\n",
       "      <td>...</td>\n",
       "      <td>...</td>\n",
       "      <td>...</td>\n",
       "      <td>...</td>\n",
       "      <td>...</td>\n",
       "      <td>...</td>\n",
       "      <td>...</td>\n",
       "      <td>...</td>\n",
       "      <td>...</td>\n",
       "      <td>...</td>\n",
       "      <td>...</td>\n",
       "    </tr>\n",
       "    <tr>\n",
       "      <th>5617</th>\n",
       "      <td>636.75790</td>\n",
       "      <td>-7.322326</td>\n",
       "      <td>-5.128215</td>\n",
       "      <td>Rural_Hawassa</td>\n",
       "      <td>17.667543</td>\n",
       "      <td>812.0</td>\n",
       "      <td>-4.8</td>\n",
       "      <td>30.6</td>\n",
       "      <td>12.90</td>\n",
       "      <td>0.61</td>\n",
       "      <td>Loamy</td>\n",
       "      <td>4.882120</td>\n",
       "      <td>0.193366</td>\n",
       "      <td>0.8</td>\n",
       "      <td>cassava</td>\n",
       "      <td>0.442964</td>\n",
       "      <td>0.553705</td>\n",
       "    </tr>\n",
       "    <tr>\n",
       "      <th>5621</th>\n",
       "      <td>509.44156</td>\n",
       "      <td>-6.614932</td>\n",
       "      <td>-1.641644</td>\n",
       "      <td>Rural_Sokoto</td>\n",
       "      <td>19.441830</td>\n",
       "      <td>958.9</td>\n",
       "      <td>-5.8</td>\n",
       "      <td>31.5</td>\n",
       "      <td>12.85</td>\n",
       "      <td>0.62</td>\n",
       "      <td>Loamy</td>\n",
       "      <td>5.485380</td>\n",
       "      <td>0.800948</td>\n",
       "      <td>1.7</td>\n",
       "      <td>cassava</td>\n",
       "      <td>0.943078</td>\n",
       "      <td>0.554751</td>\n",
       "    </tr>\n",
       "    <tr>\n",
       "      <th>5625</th>\n",
       "      <td>614.65955</td>\n",
       "      <td>-6.948353</td>\n",
       "      <td>-3.029065</td>\n",
       "      <td>Rural_Hawassa</td>\n",
       "      <td>2.801264</td>\n",
       "      <td>896.6</td>\n",
       "      <td>-4.9</td>\n",
       "      <td>28.5</td>\n",
       "      <td>11.80</td>\n",
       "      <td>0.57</td>\n",
       "      <td>Loamy</td>\n",
       "      <td>4.809189</td>\n",
       "      <td>0.288357</td>\n",
       "      <td>5.3</td>\n",
       "      <td>potato</td>\n",
       "      <td>3.053344</td>\n",
       "      <td>0.576103</td>\n",
       "    </tr>\n",
       "    <tr>\n",
       "      <th>5632</th>\n",
       "      <td>618.01624</td>\n",
       "      <td>-6.511301</td>\n",
       "      <td>-2.574099</td>\n",
       "      <td>Rural_Hawassa</td>\n",
       "      <td>19.183754</td>\n",
       "      <td>888.0</td>\n",
       "      <td>-4.9</td>\n",
       "      <td>26.9</td>\n",
       "      <td>11.00</td>\n",
       "      <td>0.62</td>\n",
       "      <td>Loamy</td>\n",
       "      <td>5.231630</td>\n",
       "      <td>0.499646</td>\n",
       "      <td>0.7</td>\n",
       "      <td>wheat</td>\n",
       "      <td>0.350604</td>\n",
       "      <td>0.500862</td>\n",
       "    </tr>\n",
       "    <tr>\n",
       "      <th>5646</th>\n",
       "      <td>589.28860</td>\n",
       "      <td>-4.519784</td>\n",
       "      <td>-7.713864</td>\n",
       "      <td>Rural_Kilimani</td>\n",
       "      <td>33.468243</td>\n",
       "      <td>464.5</td>\n",
       "      <td>-5.5</td>\n",
       "      <td>32.4</td>\n",
       "      <td>13.45</td>\n",
       "      <td>0.63</td>\n",
       "      <td>Loamy</td>\n",
       "      <td>5.911776</td>\n",
       "      <td>0.329639</td>\n",
       "      <td>1.0</td>\n",
       "      <td>maize</td>\n",
       "      <td>0.593583</td>\n",
       "      <td>0.593583</td>\n",
       "    </tr>\n",
       "  </tbody>\n",
       "</table>\n",
       "<p>808 rows × 17 columns</p>\n",
       "</div>"
      ],
      "text/plain": [
       "      Elevation  Latitude  Longitude        Location      Slope  Rainfall  \\\n",
       "3     574.94617 -2.420131  -6.592215  Rural_Kilimani   7.109855     328.8   \n",
       "19    610.99400 -6.948353  -2.966000   Rural_Hawassa  16.369598     902.8   \n",
       "22    504.42505 -2.379580  -7.601249  Rural_Kilimani   3.906222     335.3   \n",
       "26    525.38104 -2.465188  -5.186775  Rural_Kilimani   6.809244     298.6   \n",
       "44    562.14720 -7.953123  -2.222739    Rural_Sokoto  24.619905    1200.3   \n",
       "...         ...       ...        ...             ...        ...       ...   \n",
       "5617  636.75790 -7.322326  -5.128215   Rural_Hawassa  17.667543     812.0   \n",
       "5621  509.44156 -6.614932  -1.641644    Rural_Sokoto  19.441830     958.9   \n",
       "5625  614.65955 -6.948353  -3.029065   Rural_Hawassa   2.801264     896.6   \n",
       "5632  618.01624 -6.511301  -2.574099   Rural_Hawassa  19.183754     888.0   \n",
       "5646  589.28860 -4.519784  -7.713864  Rural_Kilimani  33.468243     464.5   \n",
       "\n",
       "      Min_temperature_C  Max_temperature_C  Ave_temps  Soil_fertility  \\\n",
       "3                  -5.8               32.2      13.20            0.54   \n",
       "19                 -4.9               28.4      11.75            0.61   \n",
       "22                 -6.4               32.6      13.10            0.53   \n",
       "26                 -6.3               33.8      13.75            0.54   \n",
       "44                 -5.3               31.8      13.25            0.66   \n",
       "...                 ...                ...        ...             ...   \n",
       "5617               -4.8               30.6      12.90            0.61   \n",
       "5621               -5.8               31.5      12.85            0.62   \n",
       "5625               -4.9               28.5      11.80            0.57   \n",
       "5632               -4.9               26.9      11.00            0.62   \n",
       "5646               -5.5               32.4      13.45            0.63   \n",
       "\n",
       "     Soil_type        pH  Pollution_level  Plot_size Crop_type  Annual_yield  \\\n",
       "3        Loamy  5.328150         0.286687        2.4   cassava      1.277635   \n",
       "19       Loamy  4.698949         0.303487        1.5     wheat      0.791114   \n",
       "22       Loamy  5.429212         0.057291        7.1     wheat      4.256354   \n",
       "26       Loamy  6.453105         0.192563        4.8    potato      2.603143   \n",
       "44       Loamy  4.649274         0.262477        1.4       tea      0.948407   \n",
       "...        ...       ...              ...        ...       ...           ...   \n",
       "5617     Loamy  4.882120         0.193366        0.8   cassava      0.442964   \n",
       "5621     Loamy  5.485380         0.800948        1.7   cassava      0.943078   \n",
       "5625     Loamy  4.809189         0.288357        5.3    potato      3.053344   \n",
       "5632     Loamy  5.231630         0.499646        0.7     wheat      0.350604   \n",
       "5646     Loamy  5.911776         0.329639        1.0     maize      0.593583   \n",
       "\n",
       "      Standard_yield  \n",
       "3           0.532348  \n",
       "19          0.527409  \n",
       "22          0.599486  \n",
       "26          0.542321  \n",
       "44          0.677433  \n",
       "...              ...  \n",
       "5617        0.553705  \n",
       "5621        0.554751  \n",
       "5625        0.576103  \n",
       "5632        0.500862  \n",
       "5646        0.593583  \n",
       "\n",
       "[808 rows x 17 columns]"
      ]
     },
     "execution_count": 74,
     "metadata": {},
     "output_type": "execute_result"
    }
   ],
   "source": [
    "MD_agric_df.query('Standard_yield > 0.5 and Soil_type == \"Loamy\"')"
   ]
  },
  {
   "cell_type": "markdown",
   "id": "afdb4b96",
   "metadata": {},
   "source": [
    "Isn't that much easier to read and understand than the one below?"
   ]
  },
  {
   "cell_type": "code",
   "execution_count": null,
   "id": "b0cb4b7b",
   "metadata": {},
   "outputs": [],
   "source": [
    "MD_agric_df[(MD_agric_df['Standard_yield'] > 0.5) & (MD_agric_df['Soil_type'] == 'Loamy')]"
   ]
  },
  {
   "cell_type": "markdown",
   "id": "ae060c3f",
   "metadata": {},
   "source": [
    "The nice thing is, we can use `in []`, `not in []` to filter with, and also pass in variables using `@variable_name`."
   ]
  },
  {
   "cell_type": "code",
   "execution_count": 77,
   "id": "91cde683",
   "metadata": {},
   "outputs": [
    {
     "data": {
      "text/plain": [
       "array(['Sandy', 'Loamy', 'Silt'], dtype=object)"
      ]
     },
     "execution_count": 77,
     "metadata": {},
     "output_type": "execute_result"
    }
   ],
   "source": [
    "soil_types = ['Loamy', 'Sandy', 'Silt']\n",
    "\n",
    "MD_agric_df.query('Soil_type in @soil_types')"
   ]
  },
  {
   "cell_type": "markdown",
   "id": "f5b3f939",
   "metadata": {},
   "source": [
    "# Plotting data with Pandas"
   ]
  },
  {
   "cell_type": "markdown",
   "id": "757d5c23",
   "metadata": {},
   "source": [
    "Sometimes we quickly want to see a basic visualisation of our data. we can use `df.plot(kind='bar')` to make a bar plot, `df.plot(kind='hist', bins = 10)` to see the distribution of a data column, or `df.plot(kind='scatter', x='Column_on_x', y='Column_on_y')` to understand the relationship between variables."
   ]
  },
  {
   "cell_type": "code",
   "execution_count": 73,
   "id": "2da1e0bc",
   "metadata": {},
   "outputs": [
    {
     "data": {
      "text/plain": [
       "<AxesSubplot:xlabel='Crop_type'>"
      ]
     },
     "execution_count": 73,
     "metadata": {},
     "output_type": "execute_result"
    },
    {
     "data": {
      "image/png": "[encoded data removed]",
      "text/plain": [
       "<Figure size 432x288 with 1 Axes>"
      ]
     },
     "metadata": {
      "needs_background": "light"
     },
     "output_type": "display_data"
    }
   ],
   "source": [
    "MD_agric_df.groupby('Crop_type')['Standard_yield'].mean().plot(kind='bar')"
   ]
  },
  {
   "cell_type": "code",
   "execution_count": 72,
   "id": "7fff3aab",
   "metadata": {},
   "outputs": [
    {
     "data": {
      "text/plain": [
       "<AxesSubplot:ylabel='Frequency'>"
      ]
     },
     "execution_count": 72,
     "metadata": {},
     "output_type": "execute_result"
    },
    {
     "data": {
      "image/png": "[encoded data removed]",
      "text/plain": [
       "<Figure size 432x288 with 1 Axes>"
      ]
     },
     "metadata": {
      "needs_background": "light"
     },
     "output_type": "display_data"
    }
   ],
   "source": [
    "MD_agric_df['Standard_yield'].plot(kind='hist', bins =20)"
   ]
  },
  {
   "cell_type": "code",
   "execution_count": 71,
   "id": "8570713a",
   "metadata": {},
   "outputs": [
    {
     "data": {
      "text/plain": [
       "<AxesSubplot:xlabel='Pollution_level', ylabel='Standard_yield'>"
      ]
     },
     "execution_count": 71,
     "metadata": {},
     "output_type": "execute_result"
    },
    {
     "data": {
      "image/png": "[encoded data removed]",
      "text/plain": [
       "<Figure size 432x288 with 1 Axes>"
      ]
     },
     "metadata": {
      "needs_background": "light"
     },
     "output_type": "display_data"
    }
   ],
   "source": [
    "MD_agric_df.plot(kind='scatter', x = \"Pollution_level\", y = \"Standard_yield\")"
   ]
  },
  {
   "cell_type": "markdown",
   "id": "383a7d2a",
   "metadata": {},
   "source": [
    "We can use these plots to get a quick feel for the data, but we can't really customise these much. For that we need some better tools. "
   ]
  },
  {
   "cell_type": "markdown",
   "id": "26fd094b-0fee-46f1-a4b8-73766813c42b",
   "metadata": {
    "tags": []
   },
   "source": [
    "#  \n",
    "\n",
    "<div align=\"center\" style=\" font-size: 80%; text-align: center; margin: 0 auto\">\n",
    "<img src=\"https://raw.githubusercontent.com/Explore-AI/Pictures/master/ExploreAI_logos/EAI_Blue_Dark.png\"  style=\"width:200px\";/>\n",
    "</div>"
   ]
  }
 ],
 "metadata": {
  "kernelspec": {
   "display_name": "Python 3 (ipykernel)",
   "language": "python",
   "name": "python3"
  },
  "language_info": {
   "codemirror_mode": {
    "name": "ipython",
    "version": 3
   },
   "file_extension": ".py",
   "mimetype": "text/x-python",
   "name": "python",
   "nbconvert_exporter": "python",
   "pygments_lexer": "ipython3",
   "version": "3.10.12"
  }
 },
 "nbformat": 4,
 "nbformat_minor": 5
}
